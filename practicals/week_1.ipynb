{
 "cells": [
  {
   "cell_type": "markdown",
   "metadata": {},
   "source": [
    "# Getting started with the practicals\n",
    "\n",
    "***These notebooks are best viewed in Jupyter. GitHub might not display all content of the notebook properly.***\n",
    "\n",
    "## Goal of the practical exercises\n",
    "\n",
    "The exercises have two goals:\n",
    "\n",
    "1. Give you the opportunity to obtain 'hands-on' experience in implementing, training and evaluation machine learning models in Python. This experience will also help you better understand the theory covered during the lectures. \n",
    "\n",
    "2. Occasionally demonstrate some 'exam-style' questions that you can use as a reference when studying for the exam. Note however that the example questions are (as the name suggests) only examples and do not constitute a complete and sufficient list of 'things that you have to learn for the exam'. You can recognize example questions as (parts of) exercises by <font color=\"#770a0a\">this font color</font>.\n",
    "\n",
    "For each set of exercises (one Python notebook such as this one $==$ one set of exercises) you have to submit deliverables that will then be graded and constitute 25% of the final grade. Thus, the work that you do during the practicals has double contribution towards the final grade: as 25% direct contribution and as a preparation for the exam that will define the other 65% of the grade.\n",
    "\n",
    "## Deliverables\n",
    "\n",
    "For each set of exercises, you have to submit:\n",
    "1. Python functions and/or classes (`.py` files) that implement basic functionalities (e.g. a $k$-NN classifier) and \n",
    "2. A *single* Python notebook that contains the experiments, visualization and answer to the questions and math problems. *Do not submit your answers as Word or PDF documents (they will not be graded)*. The submitted code and notebook should run without errors and be able to fully reproduce the reported results.\n",
    "\n",
    "We recommend that you clone the provided notebooks (such as this one) and write your code in them. The following rubric will be used when grading the practical work:\n",
    "\n",
    "Component  | Insufficient | Satisfactory | Excellent\n",
    "--- | --- | --- | ---\n",
    "**Code** | Missing or incomplete code structure, runs with errors, lacks documentation | Self-contained, does not result in errors, contains some documentation, can be easily used to reproduce the reported results | User-friendly, well-structured (good separation of general functionality and experiments, i.e. between `.py` files and the Pyhthon notebook), detailed documentation, optimized for speed, <s>use of a version control system (such as GitHub)</s>\n",
    "**Answers to questions** | Incorrect, does not convey understanding of the material, appears to be copied from another source | Correct, conveys good understanding of the material, description in own words | Correct, conveys excellent level of understanding, makes connections between topics\n",
    "\n",
    "## A word on notation\n",
    "\n",
    "When we refer to Python variables, we will use a monospace font. For example, `X` is a Python variable that contains the data matrix. When we refer to mathematical variables, we will use the de-facto standard notation: $a$ or $\\lambda$ is a scalar variable, $\\boldsymbol{\\mathrm{w}}$ is a vector and $\\boldsymbol{\\mathrm{X}}$ is a matrix (e.g. a data matrix from the example above). You should use the same notation when writing your answers and solutions.\n",
    "\n",
    "# Two simple machine learning models\n",
    "\n",
    "## Preliminaries\n",
    "\n",
    "Throughout the practical curriculum of this course, we will use the Python programming language and its ecosystem of libraries for scientific computing (such as `numpy`, `scipy`, `matplotlib`, `scikit-learn` etc). The practicals for the deep learning part of the course will use the `keras` deep learning framework. If you are not sufficiently familiar with this programming language and/or the listed libraries and packages, you are strongly advised to go over the corresponding tutorials from the ['Essential skills'](https://github.com/tueimage/essential-skills) module (the `scikit-learn` library is not covered by the tutorial, however, an extensive documentation is available [here](https://scikit-learn.org/stable/documentation.html).\n",
    "\n",
    "In this first set of exercises, we will use two toy datasets that ship together with `scikit-learn`. \n",
    "\n",
    "The first dataset is named `diabetes` and contains 442 patients described with 10 features: age, sex, body mass index, average blood pressure, and six blood serum measurements. The target variable is a continuous quantitative measure of the disease (diabetes) progression one year after the baseline measurements were recorded. More information is available [here](https://github.com/scikit-learn/scikit-learn/blob/master/sklearn/datasets/descr/diabetes.rst) and [here](https://www4.stat.ncsu.edu/~boos/var.select/diabetes.html).\n",
    "\n",
    "The second dataset is named `breast_cancer` and is a copy of the UCI ML Breast Cancer Wisconsin (Diagnostic) datasets (more infortmation is available [here](https://github.com/scikit-learn/scikit-learn/blob/master/sklearn/datasets/descr/breast_cancer.rst) and [here](https://archive.ics.uci.edu/ml/datasets/Breast+Cancer+Wisconsin+(Diagnostic)). The datasets contains of 569 instances represented with 30 features that are computed from a images of a fine needle aspirate of a breast mass. The features describe characteristics of the cell nuclei present in the image. Each instance is associated with a binary target variable ('malignant' or 'benign'). \n",
    "\n",
    "You can load the two datasets in the following way:"
   ]
  },
  {
   "cell_type": "code",
   "execution_count": 2,
   "metadata": {
    "ExecuteTime": {
     "end_time": "2024-09-11T10:03:32.693924600Z",
     "start_time": "2024-09-11T10:03:30.744491400Z"
    }
   },
   "outputs": [],
   "source": [
    "import numpy as np\n",
    "from sklearn.datasets import load_diabetes, load_breast_cancer\n",
    "\n",
    "diabetes = load_diabetes()\n",
    "\n",
    "breast_cancer = load_breast_cancer()"
   ]
  },
  {
   "cell_type": "markdown",
   "metadata": {},
   "source": [
    "In the majority of the exercises in this course, we will use higher-level libraries and packages such as `scikit-learn` and `keras` to implement, train and evaluate machine learning models. However, the goal of this first set of exercises is to illustrate basic mathematical tools and machine learning concepts. Because of this, we will impose a restriction of only using basic `numpy` functionality. Furthermore, you should as much as possible restrict the use of for-loops (e.g. use a vector-to-matrix product instead of a for loop when appropriate).\n",
    "\n",
    "If `X` is a 2D data matrix, we will use the convention that the rows of the matrix contain the samples (or instances) and the columns contain the features (inputs to the model). That means that a data matrix with a shape `(122, 13)` represents a dataset with 122 samples, each represented with 13 features. Similarly, if `Y` is a 2D matrix containing the targets, the rows correspond to the samples and the columns to the different targets (outputs of the model). Thus, if the shape of `Y` is `(122, 3)` that means that there are 122 samples and each sample is has 3 targets (note that in the majority of the examples we will only have a single target and thus the number of columns of `Y` will be 1).\n",
    "\n",
    "You can obtain the data and target matrices from the two datasets in the following way:"
   ]
  },
  {
   "cell_type": "code",
   "execution_count": 2,
   "metadata": {
    "ExecuteTime": {
     "end_time": "2024-09-05T10:06:21.143291400Z",
     "start_time": "2024-09-05T10:06:21.112215300Z"
    }
   },
   "outputs": [
    {
     "name": "stdout",
     "output_type": "stream",
     "text": [
      "(442, 10)\n",
      "(442, 1)\n"
     ]
    }
   ],
   "source": [
    "X = diabetes.data\n",
    "Y = diabetes.target[:, np.newaxis]\n",
    "\n",
    "print(X.shape)\n",
    "print(Y.shape)"
   ]
  },
  {
   "cell_type": "markdown",
   "metadata": {},
   "source": [
    "If you want to only use a subset of the available features, you can obtain a reduced data matrix in the following way:"
   ]
  },
  {
   "cell_type": "code",
   "execution_count": 3,
   "metadata": {
    "ExecuteTime": {
     "end_time": "2024-09-05T10:06:23.688784200Z",
     "start_time": "2024-09-05T10:06:23.668744500Z"
    },
    "scrolled": true
   },
   "outputs": [
    {
     "name": "stdout",
     "output_type": "stream",
     "text": [
      "(442, 1)\n",
      "(442, 2)\n"
     ]
    }
   ],
   "source": [
    "# use only the fourth feature\n",
    "X = diabetes.data[:, np.newaxis, 3]\n",
    "print(X.shape)\n",
    "\n",
    "# use the third, and tenth features\n",
    "X = diabetes.data[:, (3,9)]\n",
    "print(X.shape)"
   ]
  },
  {
   "cell_type": "markdown",
   "metadata": {},
   "source": [
    "***Question***: Why we need to use the `np.newaxis` expression in the examples above? \n",
    "\n",
    "Note that in all your experiments in the exercises, you should use and independent training and testing sets. You can split the dataset into a training and testing subsets in the following way:"
   ]
  },
  {
   "cell_type": "code",
   "execution_count": 4,
   "metadata": {
    "ExecuteTime": {
     "end_time": "2024-09-05T10:06:25.452524100Z",
     "start_time": "2024-09-05T10:06:25.434986300Z"
    }
   },
   "outputs": [
    {
     "name": "stdout",
     "output_type": "stream",
     "text": [
      "(300, 1)\n",
      "(300, 1)\n",
      "(142, 1)\n",
      "(142, 1)\n"
     ]
    }
   ],
   "source": [
    "# use the fourth feature\n",
    "# use the first 300 training samples for training, and the rest for testing\n",
    "X_train = diabetes.data[:300, np.newaxis, 3]\n",
    "y_train = diabetes.target[:300, np.newaxis]\n",
    "X_test = diabetes.data[300:, np.newaxis, 3]\n",
    "y_test = diabetes.target[300:, np.newaxis]\n",
    "print(X_train.shape)\n",
    "print(y_train.shape)\n",
    "print(X_test.shape)\n",
    "print(y_test.shape)"
   ]
  },
  {
   "cell_type": "markdown",
   "metadata": {},
   "source": [
    "## Exercises\n",
    "\n",
    "### Linear regression\n",
    "\n",
    "Implement training and evaluation of a linear regression model on the diabetes dataset using only matrix multiplication, inversion and transpose operations. Report the mean squared error of the model.\n",
    "\n",
    "To get you started we have implemented the first part of this exercise (fitting of the model) as an example."
   ]
  },
  {
   "cell_type": "code",
   "execution_count": 5,
   "metadata": {
    "ExecuteTime": {
     "end_time": "2024-09-05T10:07:42.106192400Z",
     "start_time": "2024-09-05T10:07:42.039525600Z"
    }
   },
   "outputs": [
    {
     "name": "stdout",
     "output_type": "stream",
     "text": [
      "[[ 152.34786452]\n",
      " [ -16.57607993]\n",
      " [-254.66532396]\n",
      " [ 560.98630022]\n",
      " [ 278.91811152]\n",
      " [-393.41357305]\n",
      " [  97.05460405]\n",
      " [ -19.0023093 ]\n",
      " [ 169.46450327]\n",
      " [ 632.95050374]\n",
      " [ 114.21638941]]\n",
      "[[225.89865512]\n",
      " [122.19655823]\n",
      " [206.99030922]\n",
      " [230.90529336]\n",
      " [109.96555629]\n",
      " [127.94447577]\n",
      " [123.84804993]\n",
      " [146.52358004]\n",
      " [ 88.98241798]\n",
      " [140.36800987]\n",
      " [204.82671174]\n",
      " [173.94952338]\n",
      " [122.27196091]\n",
      " [212.78694382]\n",
      " [174.59519016]\n",
      " [112.04339309]\n",
      " [203.46717761]\n",
      " [169.57468338]\n",
      " [163.827068  ]\n",
      " [197.81009452]\n",
      " [189.79960806]\n",
      " [290.1844403 ]\n",
      " [299.62810158]\n",
      " [231.31028628]\n",
      " [209.57104553]\n",
      " [226.70202698]\n",
      " [156.33862635]\n",
      " [225.71433429]\n",
      " [195.27595773]\n",
      " [103.03744106]\n",
      " [173.08488675]\n",
      " [110.33187099]\n",
      " [293.97110974]\n",
      " [179.07050948]\n",
      " [ 77.55987355]\n",
      " [ 84.7759347 ]\n",
      " [257.24343754]\n",
      " [166.97302768]\n",
      " [117.81907189]\n",
      " [149.09612381]\n",
      " [163.43639195]\n",
      " [179.35662973]\n",
      " [158.9162298 ]\n",
      " [155.90861199]\n",
      " [141.74028645]\n",
      " [121.56849441]\n",
      " [174.10009325]\n",
      " [103.35621925]\n",
      " [133.91774356]\n",
      " [ 88.96776627]\n",
      " [257.04911566]\n",
      " [ 86.01816301]\n",
      " [ 64.01709213]\n",
      " [177.44689238]\n",
      " [196.60449312]\n",
      " [132.22713296]\n",
      " [ 87.57734102]\n",
      " [201.83451712]\n",
      " [ 52.90569495]\n",
      " [172.67106195]\n",
      " [198.110488  ]\n",
      " [122.25200897]\n",
      " [236.00579904]\n",
      " [161.75967945]\n",
      " [162.03582297]\n",
      " [165.48091643]\n",
      " [262.998005  ]\n",
      " [262.07943805]\n",
      " [205.45158078]\n",
      " [186.88543494]\n",
      " [ 58.82486726]\n",
      " [204.84664581]\n",
      " [107.84448837]\n",
      " [144.28550643]\n",
      " [129.2125527 ]\n",
      " [174.34545153]\n",
      " [210.26852099]\n",
      " [160.29666882]\n",
      " [159.00526962]\n",
      " [139.50944185]\n",
      " [173.06524194]\n",
      " [ 69.88164202]\n",
      " [263.18330015]\n",
      " [112.86329229]\n",
      " [104.85501561]\n",
      " [136.39445133]\n",
      " [110.9090868 ]\n",
      " [ 95.58923299]\n",
      " [155.29628347]\n",
      " [ 75.665228  ]\n",
      " [266.0629533 ]\n",
      " [ 56.22424762]\n",
      " [ 98.41223682]\n",
      " [101.46943141]\n",
      " [275.72371454]\n",
      " [171.03820246]\n",
      " [ 64.79643119]\n",
      " [186.19358699]\n",
      " [170.26305645]\n",
      " [186.89955714]\n",
      " [187.67127953]\n",
      " [ 93.88956214]\n",
      " [144.47109292]\n",
      " [260.57399568]\n",
      " [199.18023206]\n",
      " [283.14946037]\n",
      " [ 48.26328724]\n",
      " [177.12731639]\n",
      " [199.68326452]\n",
      " [166.04490253]\n",
      " [154.32903105]\n",
      " [157.21219967]\n",
      " [236.42011785]\n",
      " [125.18278502]\n",
      " [160.37664905]\n",
      " [171.72468956]\n",
      " [225.86251784]\n",
      " [156.72320085]\n",
      " [ 98.20531497]\n",
      " [ 84.41637096]\n",
      " [138.40336298]\n",
      " [189.03772115]\n",
      " [198.36658663]\n",
      " [141.37445851]\n",
      " [171.03186523]\n",
      " [116.09677823]\n",
      " [158.55817271]\n",
      " [132.62865854]\n",
      " [263.90525414]\n",
      " [ 99.07390108]\n",
      " [111.78459469]\n",
      " [120.18054595]\n",
      " [226.0647077 ]\n",
      " [ 63.14309811]\n",
      " [133.07086855]\n",
      " [117.7820139 ]\n",
      " [ 55.5080236 ]\n",
      " [189.10797084]\n",
      " [ 99.98678697]\n",
      " [118.68961147]\n",
      " [212.05432357]\n",
      " [ 58.23142512]]\n",
      "2794.569014500727\n"
     ]
    }
   ],
   "source": [
    "# add subfolder that contains all the function implementations\n",
    "# to the system path so we can import them\n",
    "import sys\n",
    "sys.path.append('code/')\n",
    "\n",
    "# the actual implementation is in linear_regression.py,\n",
    "# here we will just use it to fit a model\n",
    "from linear_regression import *\n",
    "\n",
    "# load the dataset\n",
    "# same as before, but now we use all features\n",
    "X_train = diabetes.data[:300, :]\n",
    "y_train = diabetes.target[:300, np.newaxis]\n",
    "X_test = diabetes.data[300:, :]\n",
    "y_test = diabetes.target[300:, np.newaxis]\n",
    "\n",
    "beta = lsq(X_train, y_train)\n",
    "\n",
    "# print the parameters\n",
    "print(beta)\n",
    "\n",
    "y_out = y_output(X_test, beta)\n",
    "\n",
    "print(y_out)\n",
    "\n",
    "MSE_1 = MSE(y_test, y_out)\n",
    "\n",
    "print(MSE_1)"
   ]
  },
  {
   "cell_type": "markdown",
   "metadata": {},
   "source": [
    "### Weighted linear regression\n",
    "\n",
    "Assume that in the dataset that you use to train a linear regression model, there are identical versions of some samples. This problem can be reformulated to a weighted linear regression problem where the matrices $\\boldsymbol{\\mathrm{X}}$ and $\\boldsymbol{\\mathrm{Y}}$ (or the vector $\\boldsymbol{\\mathrm{y}}$ if there is only a single target/output variable) contain only the unique data samples, and a vector $\\boldsymbol{\\mathrm{d}}$ is introduced that gives more weight to samples that appear multiple times in the original dataset (for example, the sample that appears 3 times has a corresponding weight of 3). \n",
    "\n",
    "<p><font color='#770a0a'>Derive the expression for the least-squares solution of a weighted linear regression model (note that in addition to the matrices $\\boldsymbol{\\mathrm{X}}$ and $\\boldsymbol{\\mathrm{Y}}$, the solution should include a vector of weights $\\boldsymbol{\\mathrm{d}}$).</font></p>"
   ]
  },
  {
   "cell_type": "markdown",
   "metadata": {},
   "source": [
    "### $k$-NN classification\n",
    "\n",
    "Implement a $k$-Nearest neighbors classifier from scratch in Python using only basic matrix operations with `numpy` and `scipy`. Train and evaluate the classifier on the breast cancer dataset, using all features. Show the performance of the classifier for different values of $k$ (plot the results in a graph). Note that for optimal results, you should normalize the features (e.g. to the $[0, 1]$ range or to have a zero mean and unit standard deviation)."
   ]
  },
  {
   "cell_type": "code",
   "execution_count": 3,
   "metadata": {
    "ExecuteTime": {
     "end_time": "2024-09-11T10:03:37.071047200Z",
     "start_time": "2024-09-11T10:03:34.955768700Z"
    }
   },
   "outputs": [
    {
     "data": {
      "text/plain": "[<matplotlib.lines.Line2D at 0x2524790b850>]"
     },
     "execution_count": 3,
     "metadata": {},
     "output_type": "execute_result"
    },
    {
     "data": {
      "text/plain": "<Figure size 640x480 with 1 Axes>",
      "image/png": "[encoded data removed]"
     },
     "metadata": {},
     "output_type": "display_data"
    }
   ],
   "source": [
    "import scipy\n",
    "import matplotlib.pyplot as plt\n",
    "\n",
    "breast_data = np.array(breast_cancer.data)\n",
    "\n",
    "x_min= np.min(breast_data)\n",
    "x_max= np.max(breast_data)\n",
    "breast_norm=(breast_data-x_min)/(x_max-x_min)\n",
    "\n",
    "n_train = 300\n",
    "x_train = breast_norm[:n_train, :]\n",
    "y_train = breast_cancer.target[:n_train, np.newaxis]\n",
    "x_test = breast_norm[n_train:, :]\n",
    "y_test = breast_cancer.target[n_train:, np.newaxis]\n",
    "test_cases = len(y_test)\n",
    "# step 2.5: loop over all test points\n",
    "dist_matr = scipy.spatial.distance_matrix(x_train,x_test)\n",
    "\n",
    "\n",
    "# step 4: compute distance from fuckers to test points\n",
    "# step 5: sort distances and \n",
    "idx = np.argsort(dist_matr,axis=0)\n",
    "\n",
    "# print(idx[0])\n",
    "# print(dist_matr[0])\n",
    "\n",
    "# step 3: loop over ks\n",
    "accuracies = []\n",
    "\n",
    "for k in range(1,n_train):\n",
    "    bool_idx = idx[:k]\n",
    "    expect = np.zeros((test_cases,1),dtype='int')\n",
    "    for i in range(test_cases):\n",
    "        expect[i] = int((y_train[bool_idx[:,i]].sum()/k).round())\n",
    "    accuracies.append((expect == y_test).sum()/test_cases)\n",
    "    \n",
    "\n",
    "# plt.plot(accuracies)\n",
    "plt.plot(accuracies)\n",
    "# step 6: compute average class for k nearest neighbours\n",
    "# step 7: return class of test point\n",
    "# step 8: see whether class allocation was legitness\n",
    "# step 9: elbow plot (a je to)\n",
    "# step 10: cake!\n"
   ]
  },
  {
   "cell_type": "markdown",
   "metadata": {},
   "source": [
    "### $k$-NN regression\n",
    "\n",
    "Modify the $k$-NN implementation to do regression instead of classification. Compare the performance of the linear regression model and the $k$-NN regression model on the diabetes dataset for different values of $k$.."
   ]
  },
  {
   "cell_type": "code",
   "execution_count": 11,
   "outputs": [
    {
     "data": {
      "text/plain": "[<matplotlib.lines.Line2D at 0x2524851bb50>]"
     },
     "execution_count": 11,
     "metadata": {},
     "output_type": "execute_result"
    },
    {
     "data": {
      "text/plain": "<Figure size 640x480 with 1 Axes>",
      "image/png": "[encoded data removed]"
     },
     "metadata": {},
     "output_type": "display_data"
    }
   ],
   "source": [
    "import scipy\n",
    "import matplotlib.pyplot as plt\n",
    "\n",
    "x_train = diabetes.data[:300, :]\n",
    "y_train = diabetes.target[:300, np.newaxis]\n",
    "x_test = diabetes.data[300:, :]\n",
    "y_test = diabetes.target[300:, np.newaxis]\n",
    "\n",
    "n_train = 300\n",
    "\n",
    "test_cases = len(y_test)\n",
    "# step 2.5: loop over all test points\n",
    "dist_matr = scipy.spatial.distance_matrix(x_train,x_test)\n",
    "\n",
    "\n",
    "# step 4: compute distance from fuckers to test points\n",
    "# step 5: sort distances and\n",
    "idx = np.argsort(dist_matr,axis=0)\n",
    "\n",
    "# print(idx[0])\n",
    "# print(dist_matr[0])\n",
    "\n",
    "# step 3: loop over ks\n",
    "accuracies = []\n",
    "\n",
    "for k in range(1,n_train):\n",
    "    bool_idx = idx[:k]\n",
    "    expect = np.zeros((test_cases,1),dtype='int')\n",
    "    for i in range(test_cases):\n",
    "        expect[i] = (y_train[bool_idx[:,i]].sum()/k)\n",
    "\n",
    "    error_mat = (y_test - expect)\n",
    "    error_mat = np.square(error_mat)\n",
    "\n",
    "    n = error_mat.shape[0]\n",
    "    sum = np.sum(error_mat)\n",
    "    mse = sum/n\n",
    "    accuracies.append(mse)\n",
    "\n",
    "\n",
    "\n",
    "\n",
    "\n",
    "\n",
    "plt.plot(accuracies)\n",
    "# step 6: compute average class for k nearest neighbours\n",
    "# step 7: return class of test point\n",
    "# step 8: see whether class allocation was legitness\n",
    "# step 9: elbow plot (a je to)\n",
    "# step 10: cake!\n",
    "\n"
   ],
   "metadata": {
    "collapsed": false,
    "ExecuteTime": {
     "end_time": "2024-09-11T10:11:48.098767600Z",
     "start_time": "2024-09-11T10:11:47.496555200Z"
    }
   }
  },
  {
   "cell_type": "markdown",
   "metadata": {},
   "source": [
    "### Class-conditional probability\n",
    "\n",
    "Compute and visualize the class-conditional probability (conditional probability where the class label is the conditional variable, i.e. $P(X = x \\mid Y = y_i)$ for all features in the breast cancer dataset. Assume a Gaussian distribution.\n",
    "\n",
    "<p><font color='#770a0a'>Based on visual analysis of the plots, which individual feature can best discriminate between the two classes? Motivate your answer.</font></p>\n",
    "\n"
   ]
  }
 ],
 "metadata": {
  "kernelspec": {
   "display_name": "Python 3",
   "language": "python",
   "name": "python3"
  },
  "language_info": {
   "codemirror_mode": {
    "name": "ipython",
    "version": 3
   },
   "file_extension": ".py",
   "mimetype": "text/x-python",
   "name": "python",
   "nbconvert_exporter": "python",
   "pygments_lexer": "ipython3",
   "version": "3.11.1"
  }
 },
 "nbformat": 4,
 "nbformat_minor": 2
}
