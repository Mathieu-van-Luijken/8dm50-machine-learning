{
 "cells": [
  {
   "cell_type": "markdown",
   "metadata": {},
   "source": [
    "# Getting started with the practicals\n",
    "\n",
    "***These notebooks are best viewed in Jupyter. GitHub might not display all content of the notebook properly.***\n",
    "\n",
    "## Goal of the practical exercises\n",
    "\n",
    "The exercises have two goals:\n",
    "\n",
    "1. Give you the opportunity to obtain 'hands-on' experience in implementing, training and evaluation machine learning models in Python. This experience will also help you better understand the theory covered during the lectures. \n",
    "\n",
    "2. Occasionally demonstrate some 'exam-style' questions that you can use as a reference when studying for the exam. Note however that the example questions are (as the name suggests) only examples and do not constitute a complete and sufficient list of 'things that you have to learn for the exam'. You can recognize example questions as (parts of) exercises by <font color=\"#770a0a\">this font color</font>.\n",
    "\n",
    "For each set of exercises (one Python notebook such as this one $==$ one set of exercises) you have to submit deliverables that will then be graded and constitute 25% of the final grade. Thus, the work that you do during the practicals has double contribution towards the final grade: as 25% direct contribution and as a preparation for the exam that will define the other 65% of the grade.\n",
    "\n",
    "## Deliverables\n",
    "\n",
    "For each set of exercises, you have to submit:\n",
    "1. Python functions and/or classes (`.py` files) that implement basic functionalities (e.g. a $k$-NN classifier) and \n",
    "2. A *single* Python notebook that contains the experiments, visualization and answer to the questions and math problems. *Do not submit your answers as Word or PDF documents (they will not be graded)*. The submitted code and notebook should run without errors and be able to fully reproduce the reported results.\n",
    "\n",
    "We recommend that you clone the provided notebooks (such as this one) and write your code in them. The following rubric will be used when grading the practical work:\n",
    "\n",
    "Component  | Insufficient | Satisfactory | Excellent\n",
    "--- | --- | --- | ---\n",
    "**Code** | Missing or incomplete code structure, runs with errors, lacks documentation | Self-contained, does not result in errors, contains some documentation, can be easily used to reproduce the reported results | User-friendly, well-structured (good separation of general functionality and experiments, i.e. between `.py` files and the Pyhthon notebook), detailed documentation, optimized for speed, <s>use of a version control system (such as GitHub)</s>\n",
    "**Answers to questions** | Incorrect, does not convey understanding of the material, appears to be copied from another source | Correct, conveys good understanding of the material, description in own words | Correct, conveys excellent level of understanding, makes connections between topics\n",
    "\n",
    "## A word on notation\n",
    "\n",
    "When we refer to Python variables, we will use a monospace font. For example, `X` is a Python variable that contains the data matrix. When we refer to mathematical variables, we will use the de-facto standard notation: $a$ or $\\lambda$ is a scalar variable, $\\boldsymbol{\\mathrm{w}}$ is a vector and $\\boldsymbol{\\mathrm{X}}$ is a matrix (e.g. a data matrix from the example above). You should use the same notation when writing your answers and solutions.\n",
    "\n",
    "# Two simple machine learning models\n",
    "\n",
    "## Preliminaries\n",
    "\n",
    "Throughout the practical curriculum of this course, we will use the Python programming language and its ecosystem of libraries for scientific computing (such as `numpy`, `scipy`, `matplotlib`, `scikit-learn` etc). The practicals for the deep learning part of the course will use the `keras` deep learning framework. If you are not sufficiently familiar with this programming language and/or the listed libraries and packages, you are strongly advised to go over the corresponding tutorials from the ['Essential skills'](https://github.com/tueimage/essential-skills) module (the `scikit-learn` library is not covered by the tutorial, however, an extensive documentation is available [here](https://scikit-learn.org/stable/documentation.html).\n",
    "\n",
    "In this first set of exercises, we will use two toy datasets that ship together with `scikit-learn`. \n",
    "\n",
    "The first dataset is named `diabetes` and contains 442 patients described with 10 features: age, sex, body mass index, average blood pressure, and six blood serum measurements. The target variable is a continuous quantitative measure of the disease (diabetes) progression one year after the baseline measurements were recorded. More information is available [here](https://github.com/scikit-learn/scikit-learn/blob/master/sklearn/datasets/descr/diabetes.rst) and [here](https://www4.stat.ncsu.edu/~boos/var.select/diabetes.html).\n",
    "\n",
    "The second dataset is named `breast_cancer` and is a copy of the UCI ML Breast Cancer Wisconsin (Diagnostic) datasets (more infortmation is available [here](https://github.com/scikit-learn/scikit-learn/blob/master/sklearn/datasets/descr/breast_cancer.rst) and [here](https://archive.ics.uci.edu/ml/datasets/Breast+Cancer+Wisconsin+(Diagnostic)). The datasets contains of 569 instances represented with 30 features that are computed from a images of a fine needle aspirate of a breast mass. The features describe characteristics of the cell nuclei present in the image. Each instance is associated with a binary target variable ('malignant' or 'benign'). \n",
    "\n",
    "You can load the two datasets in the following way:"
   ]
  },
  {
   "cell_type": "code",
   "execution_count": 1,
   "metadata": {
    "ExecuteTime": {
     "end_time": "2024-09-11T10:40:44.862496400Z",
     "start_time": "2024-09-11T10:40:42.422427Z"
    }
   },
   "outputs": [],
   "source": [
    "import numpy as np\n",
    "from sklearn.datasets import load_diabetes, load_breast_cancer\n",
    "\n",
    "diabetes = load_diabetes()\n",
    "\n",
    "breast_cancer = load_breast_cancer()"
   ]
  },
  {
   "cell_type": "markdown",
   "metadata": {},
   "source": [
    "In the majority of the exercises in this course, we will use higher-level libraries and packages such as `scikit-learn` and `keras` to implement, train and evaluate machine learning models. However, the goal of this first set of exercises is to illustrate basic mathematical tools and machine learning concepts. Because of this, we will impose a restriction of only using basic `numpy` functionality. Furthermore, you should as much as possible restrict the use of for-loops (e.g. use a vector-to-matrix product instead of a for loop when appropriate).\n",
    "\n",
    "If `X` is a 2D data matrix, we will use the convention that the rows of the matrix contain the samples (or instances) and the columns contain the features (inputs to the model). That means that a data matrix with a shape `(122, 13)` represents a dataset with 122 samples, each represented with 13 features. Similarly, if `Y` is a 2D matrix containing the targets, the rows correspond to the samples and the columns to the different targets (outputs of the model). Thus, if the shape of `Y` is `(122, 3)` that means that there are 122 samples and each sample is has 3 targets (note that in the majority of the examples we will only have a single target and thus the number of columns of `Y` will be 1).\n",
    "\n",
    "You can obtain the data and target matrices from the two datasets in the following way:"
   ]
  },
  {
   "cell_type": "code",
   "execution_count": 2,
   "metadata": {
    "ExecuteTime": {
     "end_time": "2024-09-05T10:06:21.143291400Z",
     "start_time": "2024-09-05T10:06:21.112215300Z"
    }
   },
   "outputs": [
    {
     "name": "stdout",
     "output_type": "stream",
     "text": [
      "(442, 10)\n",
      "(442, 1)\n"
     ]
    }
   ],
   "source": [
    "X = diabetes.data\n",
    "Y = diabetes.target[:, np.newaxis]\n",
    "\n",
    "print(X.shape)\n",
    "print(Y.shape)"
   ]
  },
  {
   "cell_type": "markdown",
   "metadata": {},
   "source": [
    "If you want to only use a subset of the available features, you can obtain a reduced data matrix in the following way:"
   ]
  },
  {
   "cell_type": "code",
   "execution_count": 3,
   "metadata": {
    "ExecuteTime": {
     "end_time": "2024-09-05T10:06:23.688784200Z",
     "start_time": "2024-09-05T10:06:23.668744500Z"
    },
    "scrolled": true
   },
   "outputs": [
    {
     "name": "stdout",
     "output_type": "stream",
     "text": [
      "(442, 1)\n",
      "(442, 2)\n"
     ]
    }
   ],
   "source": [
    "# use only the fourth feature\n",
    "X = diabetes.data[:, np.newaxis, 3]\n",
    "print(X.shape)\n",
    "\n",
    "# use the third, and tenth features\n",
    "X = diabetes.data[:, (3,9)]\n",
    "print(X.shape)"
   ]
  },
  {
   "cell_type": "markdown",
   "metadata": {},
   "source": [
    "***Question***: Why we need to use the `np.newaxis` expression in the examples above? \n",
    "\n",
    "Note that in all your experiments in the exercises, you should use and independent training and testing sets. You can split the dataset into a training and testing subsets in the following way:"
   ]
  },
  {
   "cell_type": "code",
   "execution_count": 4,
   "metadata": {
    "ExecuteTime": {
     "end_time": "2024-09-05T10:06:25.452524100Z",
     "start_time": "2024-09-05T10:06:25.434986300Z"
    }
   },
   "outputs": [
    {
     "name": "stdout",
     "output_type": "stream",
     "text": [
      "(300, 1)\n",
      "(300, 1)\n",
      "(142, 1)\n",
      "(142, 1)\n"
     ]
    }
   ],
   "source": [
    "# use the fourth feature\n",
    "# use the first 300 training samples for training, and the rest for testing\n",
    "X_train = diabetes.data[:300, np.newaxis, 3]\n",
    "y_train = diabetes.target[:300, np.newaxis]\n",
    "X_test = diabetes.data[300:, np.newaxis, 3]\n",
    "y_test = diabetes.target[300:, np.newaxis]\n",
    "print(X_train.shape)\n",
    "print(y_train.shape)\n",
    "print(X_test.shape)\n",
    "print(y_test.shape)"
   ]
  },
  {
   "cell_type": "markdown",
   "metadata": {},
   "source": [
    "## Exercises\n",
    "\n",
    "### Linear regression\n",
    "\n",
    "Implement training and evaluation of a linear regression model on the diabetes dataset using only matrix multiplication, inversion and transpose operations. Report the mean squared error of the model.\n",
    "\n",
    "To get you started we have implemented the first part of this exercise (fitting of the model) as an example."
   ]
  },
  {
   "cell_type": "code",
   "execution_count": 36,
   "metadata": {
    "ExecuteTime": {
     "end_time": "2024-09-11T11:15:39.969448Z",
     "start_time": "2024-09-11T11:15:39.952100800Z"
    }
   },
   "outputs": [
    {
     "name": "stdout",
     "output_type": "stream",
     "text": [
      "[[ 151.43301355]\n",
      " [ -60.71495268]\n",
      " [-241.59419267]\n",
      " [ 534.65378239]\n",
      " [ 241.98177167]\n",
      " [-856.3947103 ]\n",
      " [ 417.5242849 ]\n",
      " [ 228.26978356]\n",
      " [ 284.32031518]\n",
      " [ 766.3501798 ]\n",
      " [ 169.46716918]]\n",
      "[[165.74352884]\n",
      " [106.38960345]\n",
      " [137.60974558]\n",
      " [ 88.82441901]\n",
      " [256.97552389]\n",
      " [ 90.98636351]\n",
      " [ 75.08840678]\n",
      " [162.54194021]\n",
      " [190.40003994]\n",
      " [137.75235624]\n",
      " [ 86.07545437]\n",
      " [199.03740176]\n",
      " [ 51.9014418 ]\n",
      " [175.01411337]\n",
      " [198.84491725]\n",
      " [118.25734592]\n",
      " [233.87328545]\n",
      " [167.27274091]\n",
      " [170.2505354 ]\n",
      " [168.92534054]\n",
      " [262.53287671]\n",
      " [259.00897891]\n",
      " [205.65852916]\n",
      " [188.55203541]\n",
      " [ 58.30753719]\n",
      " [186.50765992]\n",
      " [111.42974546]\n",
      " [147.95496468]\n",
      " [135.62702586]\n",
      " [170.00754228]\n",
      " [203.53659092]\n",
      " [156.29486413]\n",
      " [156.60302477]\n",
      " [143.60414447]\n",
      " [166.30689887]\n",
      " [ 76.39371944]\n",
      " [251.2505738 ]\n",
      " [114.42037281]\n",
      " [ 97.52709909]\n",
      " [135.94415387]\n",
      " [112.93780852]\n",
      " [ 90.44056701]\n",
      " [148.81652343]\n",
      " [ 75.7382604 ]\n",
      " [255.8855382 ]\n",
      " [ 56.80009709]\n",
      " [103.23315244]\n",
      " [104.88828497]\n",
      " [255.83464295]\n",
      " [173.41649965]\n",
      " [ 67.44110244]\n",
      " [186.39804216]\n",
      " [161.59947051]\n",
      " [180.42980213]\n",
      " [187.51123731]\n",
      " [ 99.88595294]\n",
      " [146.98447554]\n",
      " [257.4889272 ]\n",
      " [194.15994704]\n",
      " [276.38999655]\n",
      " [ 48.68729394]\n",
      " [172.87850154]\n",
      " [192.68436977]\n",
      " [165.82409021]\n",
      " [147.94255859]\n",
      " [153.87409792]\n",
      " [233.4410351 ]\n",
      " [128.08627997]\n",
      " [153.3927248 ]\n",
      " [174.81042525]\n",
      " [221.05924035]\n",
      " [157.65817099]\n",
      " [ 97.07180334]\n",
      " [ 87.72894152]\n",
      " [139.54527268]\n",
      " [186.85407245]\n",
      " [193.1692725 ]\n",
      " [140.42440566]\n",
      " [174.46213617]\n",
      " [123.93881917]\n",
      " [159.70763688]\n",
      " [137.2705941 ]\n",
      " [260.20114254]\n",
      " [ 98.32366951]\n",
      " [113.03075822]\n",
      " [120.82205124]\n",
      " [225.86049486]\n",
      " [ 68.68738712]\n",
      " [130.20267202]\n",
      " [116.25886061]\n",
      " [ 60.23531647]\n",
      " [183.27605443]\n",
      " [102.31582379]\n",
      " [116.38105537]\n",
      " [209.30006518]\n",
      " [ 71.86119786]]\n",
      "2777.7732847817697\n"
     ]
    }
   ],
   "source": [
    "# add subfolder that contains all the function implementations\n",
    "# to the system path so we can import them\n",
    "import sys\n",
    "sys.path.append('code/')\n",
    "\n",
    "# the actual implementation is in linear_regression.py,\n",
    "# here we will just use it to fit a model\n",
    "from linear_regression import *\n",
    "\n",
    "#Load the dataset\n",
    "#Same as before, but now we use all features\n",
    "x_train = diabetes.data[:250, :]\n",
    "y_train = diabetes.target[:250, np.newaxis]\n",
    "\n",
    "x_test = diabetes.data[250:346, :]\n",
    "y_test = diabetes.target[250:346, np.newaxis]\n",
    "\n",
    "#Validation dataset for comparison later on\n",
    "x_val = diabetes.data[346:, :]\n",
    "y_val = diabetes.target[346:, np.newaxis]\n",
    "\n",
    "\n",
    "#Calculate the parameters\n",
    "beta = lsq(x_train, y_train)\n",
    "\n",
    "#Print the parameters\n",
    "print(beta)\n",
    "\n",
    "#Calculate the estimated target vector\n",
    "y_out = y_output(x_val, beta)\n",
    "\n",
    "#Print the estimation\n",
    "print(y_out)\n",
    "\n",
    "#Calculate the mean squared error\n",
    "MSE_1 = MSE(y_val, y_out)\n",
    "\n",
    "#Print the mean squared error\n",
    "print(MSE_1)"
   ]
  },
  {
   "cell_type": "markdown",
   "metadata": {},
   "source": [
    "### Weighted linear regression\n",
    "\n",
    "Assume that in the dataset that you use to train a linear regression model, there are identical versions of some samples. This problem can be reformulated to a weighted linear regression problem where the matrices $\\boldsymbol{\\mathrm{X}}$ and $\\boldsymbol{\\mathrm{Y}}$ (or the vector $\\boldsymbol{\\mathrm{y}}$ if there is only a single target/output variable) contain only the unique data samples, and a vector $\\boldsymbol{\\mathrm{d}}$ is introduced that gives more weight to samples that appear multiple times in the original dataset (for example, the sample that appears 3 times has a corresponding weight of 3). \n",
    "\n",
    "<p><font color='#770a0a'>Derive the expression for the least-squares solution of a weighted linear regression model (note that in addition to the matrices $\\boldsymbol{\\mathrm{X}}$ and $\\boldsymbol{\\mathrm{Y}}$, the solution should include a vector of weights $\\boldsymbol{\\mathrm{d}}$).</font></p>"
   ]
  },
  {
   "cell_type": "markdown",
   "metadata": {},
   "source": [
    "### $k$-NN classification\n",
    "\n",
    "Implement a $k$-Nearest neighbors classifier from scratch in Python using only basic matrix operations with `numpy` and `scipy`. Train and evaluate the classifier on the breast cancer dataset, using all features. Show the performance of the classifier for different values of $k$ (plot the results in a graph). Note that for optimal results, you should normalize the features (e.g. to the $[0, 1]$ range or to have a zero mean and unit standard deviation)."
   ]
  },
  {
   "cell_type": "code",
   "execution_count": 46,
   "metadata": {
    "ExecuteTime": {
     "end_time": "2024-09-11T12:07:30.855115700Z",
     "start_time": "2024-09-11T12:07:29.558444300Z"
    }
   },
   "outputs": [
    {
     "data": {
      "text/plain": "[<matplotlib.lines.Line2D at 0x26247c51db0>]"
     },
     "execution_count": 46,
     "metadata": {},
     "output_type": "execute_result"
    },
    {
     "data": {
      "text/plain": "<Figure size 640x480 with 1 Axes>",
      "image/png": "[encoded data removed]"
     },
     "metadata": {},
     "output_type": "display_data"
    }
   ],
   "source": [
    "import scipy\n",
    "import matplotlib.pyplot as plt\n",
    "\n",
    "breast_data = np.array(breast_cancer.data)\n",
    "\n",
    "x_min= np.min(breast_data)\n",
    "x_max= np.max(breast_data)\n",
    "breast_norm=(breast_data-x_min)/(x_max-x_min)\n",
    "\n",
    "n_train = 300\n",
    "x_train = breast_norm[:n_train, :]\n",
    "y_train = breast_cancer.target[:n_train, np.newaxis]\n",
    "x_test = breast_norm[n_train:, :]\n",
    "y_test = breast_cancer.target[n_train:, np.newaxis]\n",
    "\n",
    "# step 2.5: loop over all test points\n",
    "def KNN(x_train,x_test,y_train,y_test,type,k=None):\n",
    "    if k:\n",
    "        k_min = k\n",
    "        k_max = k+1\n",
    "    else:\n",
    "        k_min = 1\n",
    "        k_max = len(y_train)\n",
    "\n",
    "    test_cases = len(y_test)\n",
    "\n",
    "    dist_matr = scipy.spatial.distance_matrix(x_train,x_test)\n",
    "\n",
    "    # step 4: compute distance from fuckers to test points\n",
    "    # step 5: sort distances and\n",
    "    idx = np.argsort(dist_matr,axis=0)\n",
    "\n",
    "\n",
    "    # step 3: loop over ks\n",
    "    accuracies = []\n",
    "    for k in range(k_min,k_max):\n",
    "        bool_idx = idx[:k]\n",
    "        expect = np.zeros((test_cases,1),dtype='int')\n",
    "        if type == 0:\n",
    "            for i in range(test_cases):\n",
    "                expect[i] = int((y_train[bool_idx[:,i]].sum()/k).round())\n",
    "            accuracies.append((expect == y_test).sum()/test_cases)\n",
    "\n",
    "        elif type == 1:\n",
    "            for i in range(test_cases):\n",
    "                expect[i] = (y_train[bool_idx[:,i]].sum()/k)\n",
    "\n",
    "            mse = MSE(y_test,expect)\n",
    "            accuracies.append(mse)\n",
    "\n",
    "        else:\n",
    "            print(\"Invalid type value, please enter either 0 or 1\")\n",
    "\n",
    "    return accuracies\n",
    "\n",
    "type = 0\n",
    "accuracies = KNN(x_train,x_test,y_train,y_test,type)\n",
    "plt.plot(accuracies)\n",
    "# step 6: compute average class for k nearest neighbours\n",
    "# step 7: return class of test point\n",
    "# step 8: see whether class allocation was legitness\n",
    "# step 9: elbow plot (a je to)\n",
    "# step 10: cake!\n"
   ]
  },
  {
   "cell_type": "markdown",
   "metadata": {},
   "source": [
    "### $k$-NN regression\n",
    "\n",
    "Modify the $k$-NN implementation to do regression instead of classification. Compare the performance of the linear regression model and the $k$-NN regression model on the diabetes dataset for different values of $k$.."
   ]
  },
  {
   "cell_type": "code",
   "execution_count": 49,
   "outputs": [
    {
     "name": "stdout",
     "output_type": "stream",
     "text": [
      "KNN regression: 2861.5416666666665\n",
      "Linear regression: 2777.7732847817697\n",
      "Linear regression is more accurate than KNN regression\n"
     ]
    }
   ],
   "source": [
    "import scipy\n",
    "x_train = diabetes.data[:250, :]\n",
    "y_train = diabetes.target[:250, np.newaxis]\n",
    "\n",
    "x_test = diabetes.data[250:346, :]\n",
    "y_test = diabetes.target[250:346, np.newaxis]\n",
    "\n",
    "x_val = diabetes.data[346:, :]\n",
    "y_val = diabetes.target[346:, np.newaxis]\n",
    "n_train = 300\n",
    "\n",
    "type = 1\n",
    "accuracies = KNN(x_train,x_test,y_train,y_test,type)\n",
    "best_k = accuracies.index(min(accuracies))+1\n",
    "\n",
    "best_accuracy = KNN(x_train,x_val,y_train,y_val,type,best_k)[0]\n",
    "\n",
    "print(\"KNN regression:\",best_accuracy)\n",
    "print(\"Linear regression:\",MSE_1)\n",
    "\n",
    "if best_accuracy < MSE_1:\n",
    "    print(\"KNN regression is more accurate than Linear regression\")\n",
    "elif best_accuracy == MSE_1:\n",
    "    print(\"KNN regression and Linear regression are equally accurate\")\n",
    "else:\n",
    "    print(\"Linear regression is more accurate than KNN regression\")\n",
    "\n"
   ],
   "metadata": {
    "collapsed": false,
    "ExecuteTime": {
     "end_time": "2024-09-11T12:08:59.798660100Z",
     "start_time": "2024-09-11T12:08:59.593343500Z"
    }
   }
  },
  {
   "cell_type": "markdown",
   "metadata": {},
   "source": [
    "### Class-conditional probability\n",
    "\n",
    "Compute and visualize the class-conditional probability (conditional probability where the class label is the conditional variable, i.e. $P(X = x \\mid Y = y_i)$ for all features in the breast cancer dataset. Assume a Gaussian distribution.\n",
    "\n",
    "<p><font color='#770a0a'>Based on visual analysis of the plots, which individual feature can best discriminate between the two classes? Motivate your answer.</font></p>\n",
    "\n"
   ]
  }
 ],
 "metadata": {
  "kernelspec": {
   "display_name": "Python 3",
   "language": "python",
   "name": "python3"
  },
  "language_info": {
   "codemirror_mode": {
    "name": "ipython",
    "version": 3
   },
   "file_extension": ".py",
   "mimetype": "text/x-python",
   "name": "python",
   "nbconvert_exporter": "python",
   "pygments_lexer": "ipython3",
   "version": "3.11.1"
  }
 },
 "nbformat": 4,
 "nbformat_minor": 2
}
